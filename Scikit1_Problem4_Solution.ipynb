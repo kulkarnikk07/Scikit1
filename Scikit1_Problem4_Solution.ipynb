{
  "nbformat": 4,
  "nbformat_minor": 0,
  "metadata": {
    "colab": {
      "provenance": []
    },
    "kernelspec": {
      "name": "python3",
      "display_name": "Python 3"
    },
    "language_info": {
      "name": "python"
    }
  },
  "cells": [
    {
      "cell_type": "code",
      "execution_count": 43,
      "metadata": {
        "id": "L3fhB4VK918P"
      },
      "outputs": [],
      "source": [
        "import pandas as pd\n",
        "import numpy as np\n",
        "from  sklearn.datasets import load_iris\n",
        "from sklearn.model_selection import train_test_split\n",
        "from sklearn.linear_model import LinearRegression\n",
        "import sklearn.metrics"
      ]
    },
    {
      "cell_type": "code",
      "source": [
        "dataset = load_iris()\n",
        "df = pd.DataFrame(dataset.data, columns =dataset.feature_names )\n",
        "df.head()\n",
        "\n",
        "x = df\n",
        "y= dataset.target\n"
      ],
      "metadata": {
        "id": "n9Vh9Mq--Ze9"
      },
      "execution_count": 44,
      "outputs": []
    },
    {
      "cell_type": "code",
      "source": [
        "#splitting data\n",
        "\n",
        "x_train,x_test,y_train, y_test = train_test_split(x,y, test_size =0.2, random_state = 7)\n",
        "\n",
        "reg = LinearRegression()\n",
        "\n",
        "reg.fit(x_train, y_train)\n",
        "\n",
        "y_pred = reg.predict(x_test)\n",
        "\n",
        "y_pred\n",
        "\n",
        "print('Linear Regression - Intercept: ',reg.intercept_)\n",
        "print('Linear Regression - Coefficients: ',reg.coef_)\n",
        "print('Linear Regression - Score: ',reg.score(x,y))\n",
        "\n",
        "mse = np.mean((y_pred-y_test)**2)\n",
        "print('Mean Square Error: ',mse)\n",
        "\n"
      ],
      "metadata": {
        "colab": {
          "base_uri": "https://localhost:8080/"
        },
        "id": "4GrNGWYhAJSZ",
        "outputId": "4d55f1cb-1f9e-45a8-d96d-022368b356b6"
      },
      "execution_count": 46,
      "outputs": [
        {
          "output_type": "stream",
          "name": "stdout",
          "text": [
            "Linear Regression - Intercept:  0.07119015069446533\n",
            "Linear Regression - Coefficients:  [-0.10773297 -0.00729172  0.21306574  0.65417904]\n",
            "Linear Regression - Score:  0.9298752233968085\n",
            "Mean Square Error:  0.0895575488117518\n"
          ]
        }
      ]
    }
  ]
}