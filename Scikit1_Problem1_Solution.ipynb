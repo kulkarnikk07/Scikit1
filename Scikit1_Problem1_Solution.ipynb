{
  "cells": [
    {
      "cell_type": "code",
      "execution_count": 3,
      "metadata": {
        "colab": {
          "base_uri": "https://localhost:8080/"
        },
        "id": "UrTJiV1MM5RN",
        "outputId": "84ed3a18-fa84-4b5d-e948-5d19022b6600"
      },
      "outputs": [
        {
          "name": "stdout",
          "output_type": "stream",
          "text": [
            "root mean squared error :  71.23878018173228\n"
          ]
        }
      ],
      "source": [
        "# 1 Problem 1 : Save and Load Machine Learning Models in Python with scikit-learn\t\n",
        "#(https://www.geeksforgeeks.org/save-and-load-machine-learning-models-in-python-with-scikit-learn/)\n",
        "# import packages\n",
        "import pandas as pd\n",
        "import numpy as np\n",
        "import matplotlib.pyplot as plt\n",
        "from sklearn.model_selection import train_test_split\n",
        "from sklearn.linear_model import LinearRegression\n",
        "from sklearn import metrics\n",
        "import pickle\n",
        "\n",
        "# import the dataset\n",
        "dataset = pd.read_csv('headbrain.csv')\n",
        "\n",
        "X = dataset.iloc[:, : -1].values\n",
        "Y = dataset.iloc[:, -1].values\n",
        "\n",
        "# train test split\n",
        "X_train, X_test, y_train, y_test = train_test_split(\n",
        "\tX, Y, test_size=0.2, random_state=0)\n",
        "\n",
        "# create a linear regression model\n",
        "regressor = LinearRegression()\n",
        "regressor.fit(X_train, y_train)\n",
        "\n",
        "\n",
        "# save the model\n",
        "filename = 'linear_model.sav'\n",
        "pickle.dump(regressor, open(filename, 'wb'))\n",
        "\n",
        "# load the model\n",
        "load_model = pickle.load(open(filename, 'rb'))\n",
        "\n",
        "y_pred = load_model.predict(X_test)\n",
        "print('root mean squared error : ', np.sqrt(\n",
        "\tmetrics.mean_squared_error(y_test, y_pred)))\n"
      ]
    },
    {
      "cell_type": "code",
      "execution_count": 4,
      "metadata": {
        "colab": {
          "base_uri": "https://localhost:8080/"
        },
        "id": "jd4RQYTYNvZa",
        "outputId": "147074c7-50f2-48a0-995b-0090f2c3aea2"
      },
      "outputs": [
        {
          "name": "stdout",
          "output_type": "stream",
          "text": [
            "root mean squared error :  71.23878018173228\n"
          ]
        }
      ],
      "source": [
        "# import packages\n",
        "import pandas as pd\n",
        "import numpy as np\n",
        "import matplotlib.pyplot as plt\n",
        "from sklearn.model_selection import train_test_split\n",
        "from sklearn.linear_model import LinearRegression\n",
        "from sklearn import metrics\n",
        "import joblib\n",
        "\n",
        "# import the dataset\n",
        "dataset = pd.read_csv('headbrain.csv')\n",
        "\n",
        "X = dataset.iloc[:, : -1].values\n",
        "Y = dataset.iloc[:, -1].values\n",
        "\n",
        "# train test split\n",
        "X_train, X_test, y_train, y_test = train_test_split(\n",
        "\tX, Y, test_size=0.2, random_state=0)\n",
        "\n",
        "# create a linear regression model\n",
        "regressor = LinearRegression()\n",
        "regressor.fit(X_train, y_train)\n",
        "\n",
        "\n",
        "# save the model\n",
        "filename = 'linear_model_2.sav'\n",
        "joblib.dump(regressor, open(filename, 'wb'))\n",
        "\n",
        "# load the model\n",
        "load_model = joblib.load(open(filename, 'rb'))\n",
        "\n",
        "y_pred = load_model.predict(X_test)\n",
        "print('root mean squared error : ', np.sqrt(\n",
        "\tmetrics.mean_squared_error(y_test, y_pred)))\n"
      ]
    }
  ],
  "metadata": {
    "colab": {
      "provenance": []
    },
    "kernelspec": {
      "display_name": "Python 3",
      "name": "python3"
    },
    "language_info": {
      "name": "python"
    }
  },
  "nbformat": 4,
  "nbformat_minor": 0
}
